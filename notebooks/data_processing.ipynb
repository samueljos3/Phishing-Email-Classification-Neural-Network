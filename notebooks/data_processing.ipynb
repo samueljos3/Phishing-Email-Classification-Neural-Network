{
  "cells": [
    {
      "cell_type": "markdown",
      "metadata": {},
      "source": [
        "## Tratamento dos dados"
      ]
    },
    {
      "cell_type": "code",
      "execution_count": 1,
      "metadata": {
        "id": "tmqrN1HZlsRz"
      },
      "outputs": [
        {
          "data": {
            "text/html": [
              "<div>\n",
              "<style scoped>\n",
              "    .dataframe tbody tr th:only-of-type {\n",
              "        vertical-align: middle;\n",
              "    }\n",
              "\n",
              "    .dataframe tbody tr th {\n",
              "        vertical-align: top;\n",
              "    }\n",
              "\n",
              "    .dataframe thead th {\n",
              "        text-align: right;\n",
              "    }\n",
              "</style>\n",
              "<table border=\"1\" class=\"dataframe\">\n",
              "  <thead>\n",
              "    <tr style=\"text-align: right;\">\n",
              "      <th></th>\n",
              "      <th>Unnamed: 0</th>\n",
              "      <th>Email Text</th>\n",
              "      <th>Email Type</th>\n",
              "    </tr>\n",
              "  </thead>\n",
              "  <tbody>\n",
              "    <tr>\n",
              "      <th>0</th>\n",
              "      <td>0</td>\n",
              "      <td>re : 6 . 1100 , disc : uniformitarianism , re ...</td>\n",
              "      <td>Safe Email</td>\n",
              "    </tr>\n",
              "    <tr>\n",
              "      <th>1</th>\n",
              "      <td>1</td>\n",
              "      <td>the other side of * galicismos * * galicismo *...</td>\n",
              "      <td>Safe Email</td>\n",
              "    </tr>\n",
              "    <tr>\n",
              "      <th>2</th>\n",
              "      <td>2</td>\n",
              "      <td>re : equistar deal tickets are you still avail...</td>\n",
              "      <td>Safe Email</td>\n",
              "    </tr>\n",
              "    <tr>\n",
              "      <th>3</th>\n",
              "      <td>3</td>\n",
              "      <td>\\nHello I am your hot lil horny toy.\\n    I am...</td>\n",
              "      <td>Phishing Email</td>\n",
              "    </tr>\n",
              "    <tr>\n",
              "      <th>4</th>\n",
              "      <td>4</td>\n",
              "      <td>software at incredibly low prices ( 86 % lower...</td>\n",
              "      <td>Phishing Email</td>\n",
              "    </tr>\n",
              "    <tr>\n",
              "      <th>...</th>\n",
              "      <td>...</td>\n",
              "      <td>...</td>\n",
              "      <td>...</td>\n",
              "    </tr>\n",
              "    <tr>\n",
              "      <th>18645</th>\n",
              "      <td>18646</td>\n",
              "      <td>date a lonely housewife always wanted to date ...</td>\n",
              "      <td>Phishing Email</td>\n",
              "    </tr>\n",
              "    <tr>\n",
              "      <th>18646</th>\n",
              "      <td>18647</td>\n",
              "      <td>request submitted : access request for anita ....</td>\n",
              "      <td>Safe Email</td>\n",
              "    </tr>\n",
              "    <tr>\n",
              "      <th>18647</th>\n",
              "      <td>18648</td>\n",
              "      <td>re : important - prc mtg hi dorn &amp; john , as y...</td>\n",
              "      <td>Safe Email</td>\n",
              "    </tr>\n",
              "    <tr>\n",
              "      <th>18648</th>\n",
              "      <td>18649</td>\n",
              "      <td>press clippings - letter on californian utilit...</td>\n",
              "      <td>Safe Email</td>\n",
              "    </tr>\n",
              "    <tr>\n",
              "      <th>18649</th>\n",
              "      <td>18650</td>\n",
              "      <td>empty</td>\n",
              "      <td>Phishing Email</td>\n",
              "    </tr>\n",
              "  </tbody>\n",
              "</table>\n",
              "<p>18650 rows × 3 columns</p>\n",
              "</div>"
            ],
            "text/plain": [
              "       Unnamed: 0                                         Email Text  \\\n",
              "0               0  re : 6 . 1100 , disc : uniformitarianism , re ...   \n",
              "1               1  the other side of * galicismos * * galicismo *...   \n",
              "2               2  re : equistar deal tickets are you still avail...   \n",
              "3               3  \\nHello I am your hot lil horny toy.\\n    I am...   \n",
              "4               4  software at incredibly low prices ( 86 % lower...   \n",
              "...           ...                                                ...   \n",
              "18645       18646  date a lonely housewife always wanted to date ...   \n",
              "18646       18647  request submitted : access request for anita ....   \n",
              "18647       18648  re : important - prc mtg hi dorn & john , as y...   \n",
              "18648       18649  press clippings - letter on californian utilit...   \n",
              "18649       18650                                              empty   \n",
              "\n",
              "           Email Type  \n",
              "0          Safe Email  \n",
              "1          Safe Email  \n",
              "2          Safe Email  \n",
              "3      Phishing Email  \n",
              "4      Phishing Email  \n",
              "...               ...  \n",
              "18645  Phishing Email  \n",
              "18646      Safe Email  \n",
              "18647      Safe Email  \n",
              "18648      Safe Email  \n",
              "18649  Phishing Email  \n",
              "\n",
              "[18650 rows x 3 columns]"
            ]
          },
          "execution_count": 1,
          "metadata": {},
          "output_type": "execute_result"
        }
      ],
      "source": [
        "import pandas as pd\n",
        "import numpy as np\n",
        "import matplotlib.pyplot as plt\n",
        "\n",
        "df = pd.read_csv(\"../data/Phishing_Email.csv\", encoding='latin-1')\n",
        "\n",
        "df"
      ]
    },
    {
      "cell_type": "code",
      "execution_count": 2,
      "metadata": {
        "id": "paoGwy3emXrP"
      },
      "outputs": [
        {
          "name": "stdout",
          "output_type": "stream",
          "text": [
            "Email Type\n",
            "Safe Email        11322\n",
            "Phishing Email     7328\n",
            "Name: count, dtype: int64\n",
            "Total:  18650\n"
          ]
        }
      ],
      "source": [
        "df = df.drop(columns=[\"Unnamed: 0\"])\n",
        "df = df.rename(columns={\"Email Text\": \"texto\"})\n",
        "print(df[\"Email Type\"].value_counts())\n",
        "print(\"Total: \", df[\"Email Type\"].value_counts().sum())"
      ]
    },
    {
      "cell_type": "code",
      "execution_count": 3,
      "metadata": {
        "colab": {
          "base_uri": "https://localhost:8080/"
        },
        "id": "JVBj7x1e5sUr",
        "outputId": "d7ec091b-df11-42a8-bec7-bcffc6abbea4"
      },
      "outputs": [
        {
          "name": "stderr",
          "output_type": "stream",
          "text": [
            "C:\\Users\\sssww\\AppData\\Local\\Temp\\ipykernel_11444\\1425109582.py:1: FutureWarning: A value is trying to be set on a copy of a DataFrame or Series through chained assignment using an inplace method.\n",
            "The behavior will change in pandas 3.0. This inplace method will never work because the intermediate object on which we are setting values always behaves as a copy.\n",
            "\n",
            "For example, when doing 'df[col].method(value, inplace=True)', try using 'df.method({col: value}, inplace=True)' or df[col] = df[col].method(value) instead, to perform the operation inplace on the original object.\n",
            "\n",
            "\n",
            "  df[\"texto\"].replace('empty',np.nan,inplace=True)\n"
          ]
        }
      ],
      "source": [
        "df[\"texto\"].replace('empty',np.nan,inplace=True)"
      ]
    },
    {
      "cell_type": "code",
      "execution_count": 4,
      "metadata": {
        "colab": {
          "base_uri": "https://localhost:8080/"
        },
        "id": "3KDHLu3mnfOc",
        "outputId": "38ee9b56-cae9-4fcc-c16b-ad1970660dc5"
      },
      "outputs": [
        {
          "name": "stdout",
          "output_type": "stream",
          "text": [
            "18101\n"
          ]
        },
        {
          "data": {
            "text/html": [
              "<div>\n",
              "<style scoped>\n",
              "    .dataframe tbody tr th:only-of-type {\n",
              "        vertical-align: middle;\n",
              "    }\n",
              "\n",
              "    .dataframe tbody tr th {\n",
              "        vertical-align: top;\n",
              "    }\n",
              "\n",
              "    .dataframe thead th {\n",
              "        text-align: right;\n",
              "    }\n",
              "</style>\n",
              "<table border=\"1\" class=\"dataframe\">\n",
              "  <thead>\n",
              "    <tr style=\"text-align: right;\">\n",
              "      <th></th>\n",
              "      <th>texto</th>\n",
              "      <th>Email Type</th>\n",
              "    </tr>\n",
              "  </thead>\n",
              "  <tbody>\n",
              "    <tr>\n",
              "      <th>0</th>\n",
              "      <td>re : 6 . 1100 , disc : uniformitarianism , re ...</td>\n",
              "      <td>Safe Email</td>\n",
              "    </tr>\n",
              "    <tr>\n",
              "      <th>1</th>\n",
              "      <td>the other side of * galicismos * * galicismo *...</td>\n",
              "      <td>Safe Email</td>\n",
              "    </tr>\n",
              "    <tr>\n",
              "      <th>2</th>\n",
              "      <td>re : equistar deal tickets are you still avail...</td>\n",
              "      <td>Safe Email</td>\n",
              "    </tr>\n",
              "    <tr>\n",
              "      <th>3</th>\n",
              "      <td>\\nHello I am your hot lil horny toy.\\n    I am...</td>\n",
              "      <td>Phishing Email</td>\n",
              "    </tr>\n",
              "    <tr>\n",
              "      <th>4</th>\n",
              "      <td>software at incredibly low prices ( 86 % lower...</td>\n",
              "      <td>Phishing Email</td>\n",
              "    </tr>\n",
              "    <tr>\n",
              "      <th>...</th>\n",
              "      <td>...</td>\n",
              "      <td>...</td>\n",
              "    </tr>\n",
              "    <tr>\n",
              "      <th>18644</th>\n",
              "      <td>\\nRick Moen  a ÃÂ©crit:&gt; &gt; I'm confused. I th...</td>\n",
              "      <td>Safe Email</td>\n",
              "    </tr>\n",
              "    <tr>\n",
              "      <th>18645</th>\n",
              "      <td>date a lonely housewife always wanted to date ...</td>\n",
              "      <td>Phishing Email</td>\n",
              "    </tr>\n",
              "    <tr>\n",
              "      <th>18646</th>\n",
              "      <td>request submitted : access request for anita ....</td>\n",
              "      <td>Safe Email</td>\n",
              "    </tr>\n",
              "    <tr>\n",
              "      <th>18647</th>\n",
              "      <td>re : important - prc mtg hi dorn &amp; john , as y...</td>\n",
              "      <td>Safe Email</td>\n",
              "    </tr>\n",
              "    <tr>\n",
              "      <th>18648</th>\n",
              "      <td>press clippings - letter on californian utilit...</td>\n",
              "      <td>Safe Email</td>\n",
              "    </tr>\n",
              "  </tbody>\n",
              "</table>\n",
              "<p>18101 rows × 2 columns</p>\n",
              "</div>"
            ],
            "text/plain": [
              "                                                   texto      Email Type\n",
              "0      re : 6 . 1100 , disc : uniformitarianism , re ...      Safe Email\n",
              "1      the other side of * galicismos * * galicismo *...      Safe Email\n",
              "2      re : equistar deal tickets are you still avail...      Safe Email\n",
              "3      \\nHello I am your hot lil horny toy.\\n    I am...  Phishing Email\n",
              "4      software at incredibly low prices ( 86 % lower...  Phishing Email\n",
              "...                                                  ...             ...\n",
              "18644  \\nRick Moen  a ÃÂ©crit:> > I'm confused. I th...      Safe Email\n",
              "18645  date a lonely housewife always wanted to date ...  Phishing Email\n",
              "18646  request submitted : access request for anita ....      Safe Email\n",
              "18647  re : important - prc mtg hi dorn & john , as y...      Safe Email\n",
              "18648  press clippings - letter on californian utilit...      Safe Email\n",
              "\n",
              "[18101 rows x 2 columns]"
            ]
          },
          "execution_count": 4,
          "metadata": {},
          "output_type": "execute_result"
        }
      ],
      "source": [
        "df = df.dropna()\n",
        "print(df.value_counts().sum())\n",
        "df"
      ]
    },
    {
      "cell_type": "code",
      "execution_count": 5,
      "metadata": {},
      "outputs": [
        {
          "name": "stdout",
          "output_type": "stream",
          "text": [
            "17536\n"
          ]
        }
      ],
      "source": [
        "df[\"texto\"] = df[\"texto\"].str.lower()\n",
        "\n",
        "df = df.drop_duplicates(subset='texto', keep='first')\n",
        "print(df.value_counts().sum())"
      ]
    },
    {
      "cell_type": "code",
      "execution_count": 6,
      "metadata": {
        "id": "W3pyhoqXnh1Y"
      },
      "outputs": [
        {
          "name": "stderr",
          "output_type": "stream",
          "text": [
            "C:\\Users\\sssww\\AppData\\Local\\Temp\\ipykernel_10036\\3836081936.py:1: SettingWithCopyWarning: \n",
            "A value is trying to be set on a copy of a slice from a DataFrame.\n",
            "Try using .loc[row_indexer,col_indexer] = value instead\n",
            "\n",
            "See the caveats in the documentation: https://pandas.pydata.org/pandas-docs/stable/user_guide/indexing.html#returning-a-view-versus-a-copy\n",
            "  df[\"Email Type\"] = df[\"Email Type\"].map({\"Safe Email\": 0, \"Phishing Email\": 1})\n"
          ]
        }
      ],
      "source": [
        "df[\"Email Type\"] = df[\"Email Type\"].map({\"Safe Email\": 0, \"Phishing Email\": 1})\n"
      ]
    },
    {
      "cell_type": "code",
      "execution_count": 7,
      "metadata": {
        "colab": {
          "base_uri": "https://localhost:8080/"
        },
        "id": "f_bXmB00nkWR",
        "outputId": "d9a1fb9a-05eb-4591-8a84-e87b0bd3c1e6"
      },
      "outputs": [
        {
          "name": "stdout",
          "output_type": "stream",
          "text": [
            "                                               texto  Email Type\n",
            "0  6 1100 disc uniformitarianism 1086 sex lang di...           0\n",
            "1  galicismos galicismo spanish term names improp...           0\n",
            "2  equistar deal tickets available assist robert ...           0\n",
            "3  hello hot lil horny toy dream open minded pers...           1\n",
            "4  software incredibly low prices 86 lower draper...           1\n"
          ]
        },
        {
          "name": "stderr",
          "output_type": "stream",
          "text": [
            "C:\\Users\\sssww\\AppData\\Local\\Temp\\ipykernel_10036\\77995477.py:24: SettingWithCopyWarning: \n",
            "A value is trying to be set on a copy of a slice from a DataFrame.\n",
            "Try using .loc[row_indexer,col_indexer] = value instead\n",
            "\n",
            "See the caveats in the documentation: https://pandas.pydata.org/pandas-docs/stable/user_guide/indexing.html#returning-a-view-versus-a-copy\n",
            "  df[\"texto\"] = df[\"texto\"].apply(preprocess_text)\n"
          ]
        }
      ],
      "source": [
        "import unicodedata\n",
        "import re\n",
        "from sklearn.feature_extraction.text import ENGLISH_STOP_WORDS\n",
        "\n",
        "def remove_accents(input_str):\n",
        "    nfkd_form = unicodedata.normalize('NFKD', input_str)\n",
        "    return ''.join([c for c in nfkd_form if not unicodedata.category(c) == 'Mn'])\n",
        "\n",
        "def remove_stopwords(text):\n",
        "    words = text.split()\n",
        "    return \" \".join([word for word in words if word not in ENGLISH_STOP_WORDS])\n",
        "\n",
        "def preprocess_text(text):\n",
        "    if pd.isna(text):\n",
        "        return \"\"\n",
        "    text = text.lower()\n",
        "    text = re.sub(r'https?://\\S+', '', text)\n",
        "    text = re.sub(r'[^a-zA-Z0-9\\s]', '', text)\n",
        "    text = re.sub(r'\\s+', ' ', text)\n",
        "    text = remove_accents(text)\n",
        "    text = remove_stopwords(text)\n",
        "    return text.strip()\n",
        "\n",
        "df[\"texto\"] = df[\"texto\"].apply(preprocess_text)\n",
        "\n",
        "print(df.head())\n"
      ]
    },
    {
      "cell_type": "code",
      "execution_count": 8,
      "metadata": {
        "colab": {
          "base_uri": "https://localhost:8080/"
        },
        "id": "oQsvIssUn-31",
        "outputId": "9c427c02-ad12-4d02-887a-be813201d28b"
      },
      "outputs": [
        {
          "name": "stderr",
          "output_type": "stream",
          "text": [
            "C:\\Users\\sssww\\AppData\\Local\\Temp\\ipykernel_10036\\951628509.py:31: SettingWithCopyWarning: \n",
            "A value is trying to be set on a copy of a slice from a DataFrame.\n",
            "Try using .loc[row_indexer,col_indexer] = value instead\n",
            "\n",
            "See the caveats in the documentation: https://pandas.pydata.org/pandas-docs/stable/user_guide/indexing.html#returning-a-view-versus-a-copy\n",
            "  df[\"tokens\"] = df[\"texto\"].apply(lambda x: x.lower().split())\n"
          ]
        },
        {
          "name": "stdout",
          "output_type": "stream",
          "text": [
            "      w2v_0     w2v_1     w2v_2     w2v_3     w2v_4     w2v_5     w2v_6  \\\n",
            "0  0.139022  0.029635  0.072710  0.083856  0.139819 -0.202052  0.078245   \n",
            "1  0.208390  0.044874 -0.061496  0.114951  0.121517 -0.093282  0.142455   \n",
            "2 -0.092116  0.152545 -0.059041 -0.110457  0.024706 -0.400563  0.198103   \n",
            "3  0.121433  0.040305  0.033057  0.004016  0.264080 -0.244418 -0.002423   \n",
            "4  0.218585  0.069286  0.118228 -0.022735  0.248860 -0.198565  0.078934   \n",
            "\n",
            "      w2v_7     w2v_8     w2v_9  ...   w2v_191   w2v_192   w2v_193   w2v_194  \\\n",
            "0  0.491132 -0.107505 -0.063613  ... -0.018377 -0.078192 -0.147558 -0.027903   \n",
            "1  0.448644 -0.159832 -0.109935  ... -0.092825 -0.045952 -0.137861 -0.078458   \n",
            "2  0.521491  0.017115 -0.213225  ...  0.063414 -0.064814 -0.432174 -0.110270   \n",
            "3  0.366948 -0.020339 -0.048855  ...  0.078867 -0.101572 -0.197652 -0.003938   \n",
            "4  0.485689 -0.111653 -0.027804  ...  0.059646 -0.078572 -0.229225 -0.013285   \n",
            "\n",
            "    w2v_195   w2v_196   w2v_197   w2v_198   w2v_199  Email Type  \n",
            "0  0.102533  0.027952 -0.075911 -0.145286  0.066592           0  \n",
            "1  0.059028 -0.012105 -0.115844 -0.232126  0.001815           0  \n",
            "2 -0.199386 -0.111215  0.047296 -0.276799  0.033370           0  \n",
            "3  0.002408 -0.060900  0.003294 -0.067751  0.022839           1  \n",
            "4  0.050186  0.095284 -0.105890 -0.151099 -0.047794           1  \n",
            "\n",
            "[5 rows x 201 columns]\n"
          ]
        }
      ],
      "source": [
        "from gensim.models import Word2Vec\n",
        "\n",
        "def word2vec(textos_tokenizados, vector_size=200, window=6, min_count=2):\n",
        "    model = Word2Vec(\n",
        "        sentences=textos_tokenizados,\n",
        "        vector_size=vector_size,\n",
        "        window=window,\n",
        "        min_count=min_count,\n",
        "        sg=1,\n",
        "        workers=4\n",
        "    )\n",
        "    return model\n",
        "\n",
        "def vetor_medio(texto, model):\n",
        "    palavras = texto.split()\n",
        "    vetores = [model.wv[p] for p in palavras if p in model.wv]\n",
        "    if vetores:\n",
        "        return np.mean(vetores, axis=0)\n",
        "    else:\n",
        "        return np.zeros(model.vector_size)\n",
        "\n",
        "def word2vec_transform(df, model):\n",
        "    vetores = df[\"texto\"].apply(lambda x: vetor_medio(x, model))\n",
        "    matriz = np.vstack(vetores.values)\n",
        "\n",
        "    df_w2v = pd.DataFrame(matriz, columns=[f\"w2v_{i}\" for i in range(model.vector_size)])\n",
        "    df_w2v[\"Email Type\"] = df[\"Email Type\"].values\n",
        "\n",
        "    return df_w2v, model\n",
        "\n",
        "df[\"tokens\"] = df[\"texto\"].apply(lambda x: x.lower().split())\n",
        "\n",
        "modelo_w2v = word2vec(df[\"tokens\"].tolist())\n",
        "\n",
        "df_final, modelo_w2v = word2vec_transform(df, modelo_w2v)\n",
        "\n",
        "print(df_final.head())\n"
      ]
    },
    {
      "cell_type": "code",
      "execution_count": 9,
      "metadata": {},
      "outputs": [],
      "source": [
        "# Save the final DataFrame to a CSV file\n",
        "df_final.to_csv(\"../data/df_processed.csv\", index=False)\n",
        "modelo_w2v.save(\"../models/models_w2v/vmodelo_w2v.model\")\n"
      ]
    }
  ],
  "metadata": {
    "colab": {
      "provenance": []
    },
    "kernelspec": {
      "display_name": "venv",
      "language": "python",
      "name": "python3"
    },
    "language_info": {
      "codemirror_mode": {
        "name": "ipython",
        "version": 3
      },
      "file_extension": ".py",
      "mimetype": "text/x-python",
      "name": "python",
      "nbconvert_exporter": "python",
      "pygments_lexer": "ipython3",
      "version": "3.12.10"
    }
  },
  "nbformat": 4,
  "nbformat_minor": 0
}
